{
 "cells": [
  {
   "cell_type": "code",
   "execution_count": 1,
   "metadata": {},
   "outputs": [],
   "source": [
    "import importlib.util\n",
    "import sys\n",
    "\n",
    "spec = importlib.util.spec_from_file_location(\"utils\", \"../scripts/utils.py\")\n",
    "ut = importlib.util.module_from_spec(spec)\n",
    "sys.modules[\"utils\"] = ut\n",
    "spec.loader.exec_module(ut)"
   ]
  },
  {
   "cell_type": "code",
   "execution_count": 9,
   "metadata": {},
   "outputs": [
    {
     "name": "stdout",
     "output_type": "stream",
     "text": [
      "Quaternion [ 0.85856569 -0.19700826 -0.36703688 -0.29889234]\n",
      "Rot [[ 0.5518946   0.65785602 -0.51248201]\n",
      " [-0.36861882  0.74370222  0.5576981 ]\n",
      " [ 0.74801906 -0.11888005  0.65294335]]\n",
      "Euler [-0.18009525 -0.84507224 -0.58886652]\n",
      "Rot [[ 0.5518946   0.65785602 -0.51248201]\n",
      " [-0.36861882  0.74370222  0.5576981 ]\n",
      " [ 0.74801906 -0.11888005  0.65294335]]\n"
     ]
    }
   ],
   "source": [
    "import numpy as np\n",
    "# Simulation works with quaternion which is R^e_b\n",
    "q=np.random.normal(0,2,4)\n",
    "q = q/np.linalg.norm(q)\n",
    "print('Quaternion', q)\n",
    "R = ut.quat2rotm(q)\n",
    "print('Rot', R)\n",
    "rpy = ut.rotm2rpy(R,1)\n",
    "print('Euler',rpy)\n",
    "R2 = ut.Rz(rpy[2])@ut.Ry(rpy[1])@ut.Rx(rpy[0])\n",
    "print('Rot', R2)\n",
    "R3=ut.rpy2rotm(rpy)\n",
    "print('Rot', R2)"
   ]
  }
 ],
 "metadata": {
  "kernelspec": {
   "display_name": "Python 3.8.10 64-bit",
   "language": "python",
   "name": "python3"
  },
  "language_info": {
   "codemirror_mode": {
    "name": "ipython",
    "version": 3
   },
   "file_extension": ".py",
   "mimetype": "text/x-python",
   "name": "python",
   "nbconvert_exporter": "python",
   "pygments_lexer": "ipython3",
   "version": "3.8.10"
  },
  "orig_nbformat": 4,
  "vscode": {
   "interpreter": {
    "hash": "916dbcbb3f70747c44a77c7bcd40155683ae19c65e1c03b4aa3499c5328201f1"
   }
  }
 },
 "nbformat": 4,
 "nbformat_minor": 2
}
